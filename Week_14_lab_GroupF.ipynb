{
  "cells": [
    {
      "cell_type": "markdown",
      "metadata": {
        "id": "view-in-github",
        "colab_type": "text"
      },
      "source": [
        "<a href=\"https://colab.research.google.com/github/deujahritik/AI__12194824/blob/main/Week_14_lab_GroupF.ipynb\" target=\"_parent\"><img src=\"https://colab.research.google.com/assets/colab-badge.svg\" alt=\"Open In Colab\"/></a>"
      ]
    },
    {
      "cell_type": "markdown",
      "metadata": {
        "id": "Rhn8ZT83931l"
      },
      "source": [
        "# The Transformer architecture"
      ]
    },
    {
      "cell_type": "markdown",
      "metadata": {
        "id": "4hAuO8ng-C7J"
      },
      "source": [
        "## Understanding self-attention"
      ]
    },
    {
      "cell_type": "markdown",
      "metadata": {
        "id": "BoivAQxq-GiM"
      },
      "source": [
        "## Generalized self-attention: the query-key-value model"
      ]
    },
    {
      "cell_type": "markdown",
      "metadata": {
        "id": "kGTQG2c6-Nu8"
      },
      "source": [
        "## Multi-head attention"
      ]
    },
    {
      "cell_type": "markdown",
      "metadata": {
        "id": "GY11dT4U-Qyb"
      },
      "source": [
        "## The Transformer encoder"
      ]
    },
    {
      "cell_type": "markdown",
      "metadata": {
        "id": "Gl498LnS-VYt"
      },
      "source": [
        "**Getting the data**"
      ]
    },
    {
      "cell_type": "code",
      "execution_count": null,
      "metadata": {
        "colab": {
          "base_uri": "https://localhost:8080/"
        },
        "id": "EkSbY7CE9o8t",
        "outputId": "46afa567-ec1a-49e3-f064-2b58ac3f2cdc"
      },
      "outputs": [
        {
          "name": "stdout",
          "output_type": "stream",
          "text": [
            "  % Total    % Received % Xferd  Average Speed   Time    Time     Time  Current\n",
            "                                 Dload  Upload   Total   Spent    Left  Speed\n",
            "100 80.2M  100 80.2M    0     0  22.6M      0  0:00:03  0:00:03 --:--:-- 22.6M\n"
          ]
        }
      ],
      "source": [
        "!curl -O https://ai.stanford.edu/~amaas/data/sentiment/aclImdb_v1.tar.gz\n",
        "!tar -xf aclImdb_v1.tar.gz\n",
        "!rm -r aclImdb/train/unsup"
      ]
    },
    {
      "cell_type": "markdown",
      "metadata": {
        "id": "t061EPj5-tqh"
      },
      "source": [
        "**Preparing the data**"
      ]
    },
    {
      "cell_type": "code",
      "execution_count": null,
      "metadata": {
        "colab": {
          "base_uri": "https://localhost:8080/"
        },
        "id": "i4rQLFxz-ruh",
        "outputId": "fb099b84-b773-4db4-c241-6faf1d095df3"
      },
      "outputs": [
        {
          "name": "stdout",
          "output_type": "stream",
          "text": [
            "Found 20000 files belonging to 2 classes.\n",
            "Found 5000 files belonging to 2 classes.\n",
            "Found 25000 files belonging to 2 classes.\n"
          ]
        }
      ],
      "source": [
        "import os, pathlib, shutil, random\n",
        "from tensorflow import keras\n",
        "\n",
        "batch_size = 32\n",
        "base_dir = pathlib.Path(\"aclImdb\")\n",
        "val_dir = base_dir / \"val\"\n",
        "train_dir = base_dir / \"train\"\n",
        "\n",
        "for category in (\"neg\", \"pos\"):\n",
        "  os.makedirs(val_dir / category)\n",
        "  files = os.listdir(train_dir / category)\n",
        "  random.Random(1337).shuffle(files)\n",
        "  num_val_samples = int(0.2 * len(files))\n",
        "  val_files = files[-num_val_samples:]\n",
        "  \n",
        "  for fname in val_files:\n",
        "    shutil.move(train_dir / category / fname,\n",
        "                val_dir / category / fname)\n",
        "    \n",
        "train_ds = keras.utils.text_dataset_from_directory(\n",
        "    \"aclImdb/train\", batch_size = batch_size\n",
        ")\n",
        "val_ds = keras.utils.text_dataset_from_directory(\n",
        "    \"aclImdb/val\", batch_size = batch_size\n",
        ")\n",
        "test_ds = keras.utils.text_dataset_from_directory(\n",
        "    \"aclImdb/test\", batch_size = batch_size\n",
        ")\n",
        "\n",
        "text_only_train_ds = train_ds.map(lambda x, y: x)"
      ]
    },
    {
      "cell_type": "markdown",
      "metadata": {
        "id": "5XDj3ufLAM11"
      },
      "source": [
        "**Vectorizing the data**"
      ]
    },
    {
      "cell_type": "code",
      "execution_count": null,
      "metadata": {
        "id": "zj76A1sDAPND"
      },
      "outputs": [],
      "source": [
        "from tensorflow.keras import layers\n",
        "\n",
        "max_length = 600\n",
        "max_tokens = 20000\n",
        "text_vectorization = layers.TextVectorization(\n",
        "    max_tokens = max_tokens,\n",
        "    output_mode = \"int\",\n",
        "    output_sequence_length = max_length,\n",
        ")\n",
        "\n",
        "text_vectorization.adapt(text_only_train_ds)\n",
        "\n",
        "int_train_ds = train_ds.map(\n",
        "    lambda x, y: (text_vectorization(x), y),\n",
        "    num_parallel_calls = 4\n",
        ")\n",
        "\n",
        "int_val_ds = train_ds.map(\n",
        "    lambda x, y: (text_vectorization(x), y),\n",
        "    num_parallel_calls = 4\n",
        ")\n",
        "\n",
        "int_test_ds = train_ds.map(\n",
        "    lambda x, y: (text_vectorization(x), y),\n",
        "    num_parallel_calls = 4\n",
        ")"
      ]
    },
    {
      "cell_type": "markdown",
      "metadata": {
        "id": "TTY3o-TjA-4U"
      },
      "source": [
        "**Transformer encoder implemented as a subclassed Layer**"
      ]
    },
    {
      "cell_type": "code",
      "execution_count": null,
      "metadata": {
        "id": "WCME1sc9BEZw"
      },
      "outputs": [],
      "source": [
        "import tensorflow as tf\n",
        "from tensorflow import keras\n",
        "from tensorflow.keras import layers\n",
        "\n",
        "class TransformerEncoder(layers.Layer):\n",
        "  def __init__(self, embed_dim, dense_dim, num_heads, **kwargs):\n",
        "    super().__init__(**kwargs)\n",
        "    self.embed_dim = embed_dim\n",
        "    self.dense_dim = dense_dim\n",
        "    self.num_heads = num_heads\n",
        "    self.attention = layers.MultiHeadAttention(\n",
        "        num_heads = num_heads, key_dim = embed_dim\n",
        "    )\n",
        "    self.dense_proj = keras.Sequential(\n",
        "        [layers.Dense(dense_dim, activation=\"relu\"),\n",
        "         layers.Dense(embed_dim),]\n",
        "    )\n",
        "    self.layernorm_1 = layers.LayerNormalization()\n",
        "    self.layernorm_2 = layers.LayerNormalization()\n",
        "\n",
        "  def call(self, inputs, mask=None):\n",
        "    if mask is not None:\n",
        "      mask = mask[:, tf.newaxis, :]\n",
        "\n",
        "    attention_output = self.attention(inputs, inputs, attention_mask = mask)\n",
        "    proj_input = self.layernorm_1(inputs + attention_output)\n",
        "    proj_output = self.dense_proj(proj_input)\n",
        "    return self.layernorm_2(proj_input + proj_output)\n",
        "\n",
        "  def get_config(self):\n",
        "    config = super().get_config()\n",
        "    config.update({\n",
        "        \"embed_dim\": self.embed_dim,\n",
        "        \"num_heads\": self.num_heads,\n",
        "        \"dense_dim\": self.dense_dim,\n",
        "    })\n",
        "    return config"
      ]
    },
    {
      "cell_type": "markdown",
      "metadata": {
        "id": "BGnqs1q9DFZj"
      },
      "source": [
        "**Using Transformer encoder for text classification**"
      ]
    },
    {
      "cell_type": "code",
      "execution_count": null,
      "metadata": {
        "colab": {
          "base_uri": "https://localhost:8080/"
        },
        "id": "5qlful8RDKUW",
        "outputId": "5d0aeacb-85c3-48f8-bc5c-8a87421ee5ed"
      },
      "outputs": [
        {
          "name": "stdout",
          "output_type": "stream",
          "text": [
            "Model: \"model\"\n",
            "_________________________________________________________________\n",
            " Layer (type)                Output Shape              Param #   \n",
            "=================================================================\n",
            " input_6 (InputLayer)        [(None, None)]            0         \n",
            "                                                                 \n",
            " embedding_5 (Embedding)     (None, None, 256)         5120000   \n",
            "                                                                 \n",
            " transformer_encoder (Transf  (None, None, 256)        543776    \n",
            " ormerEncoder)                                                   \n",
            "                                                                 \n",
            " global_max_pooling1d (Globa  (None, 256)              0         \n",
            " lMaxPooling1D)                                                  \n",
            "                                                                 \n",
            " dropout (Dropout)           (None, 256)               0         \n",
            "                                                                 \n",
            " dense_2 (Dense)             (None, 1)                 257       \n",
            "                                                                 \n",
            "=================================================================\n",
            "Total params: 5,664,033\n",
            "Trainable params: 5,664,033\n",
            "Non-trainable params: 0\n",
            "_________________________________________________________________\n"
          ]
        }
      ],
      "source": [
        "vocab_size = 20000\n",
        "embed_dim = 256\n",
        "num_heads = 2\n",
        "dense_dim = 32\n",
        "\n",
        "inputs = keras.Input(shape = (None,), dtype = \"int64\")\n",
        "x = layers.Embedding(vocab_size, embed_dim)(inputs)\n",
        "x = TransformerEncoder(embed_dim, dense_dim, num_heads)(x)\n",
        "x = layers.GlobalMaxPooling1D()(x)\n",
        "x = layers.Dropout(0.5)(x)\n",
        "outputs = layers.Dense(1, activation = \"sigmoid\")(x)\n",
        "model = keras.Model(inputs, outputs)\n",
        "model.compile(optimizer = \"rmsprop\",\n",
        "              loss = \"binary_crossentropy\",\n",
        "              metrics=[\"accuracy\"])\n",
        "model.summary()"
      ]
    },
    {
      "cell_type": "markdown",
      "metadata": {
        "id": "kBV6RSCmFk3K"
      },
      "source": [
        "**Training and evaluating the Transformer encoder based model**"
      ]
    },
    {
      "cell_type": "code",
      "execution_count": null,
      "metadata": {
        "colab": {
          "base_uri": "https://localhost:8080/"
        },
        "id": "PMgU2svSFpSu",
        "outputId": "cee2ce65-4f1b-457f-909b-ccceeb6f7ef3"
      },
      "outputs": [
        {
          "name": "stdout",
          "output_type": "stream",
          "text": [
            "Epoch 1/20\n",
            "625/625 [==============================] - 57s 82ms/step - loss: 0.4808 - accuracy: 0.7772 - val_loss: 0.3234 - val_accuracy: 0.8626\n",
            "Epoch 2/20\n",
            "625/625 [==============================] - 52s 84ms/step - loss: 0.3120 - accuracy: 0.8680 - val_loss: 0.2095 - val_accuracy: 0.9193\n",
            "Epoch 3/20\n",
            "625/625 [==============================] - 52s 84ms/step - loss: 0.2396 - accuracy: 0.9036 - val_loss: 0.2979 - val_accuracy: 0.8733\n",
            "Epoch 4/20\n",
            "625/625 [==============================] - 53s 84ms/step - loss: 0.1910 - accuracy: 0.9246 - val_loss: 0.1216 - val_accuracy: 0.9535\n",
            "Epoch 5/20\n",
            "625/625 [==============================] - 53s 85ms/step - loss: 0.1521 - accuracy: 0.9435 - val_loss: 0.1057 - val_accuracy: 0.9623\n",
            "Epoch 6/20\n",
            "625/625 [==============================] - 53s 85ms/step - loss: 0.1283 - accuracy: 0.9528 - val_loss: 0.0771 - val_accuracy: 0.9735\n",
            "Epoch 7/20\n",
            "625/625 [==============================] - 53s 84ms/step - loss: 0.1054 - accuracy: 0.9631 - val_loss: 0.0781 - val_accuracy: 0.9715\n",
            "Epoch 8/20\n",
            "625/625 [==============================] - 52s 83ms/step - loss: 0.0909 - accuracy: 0.9679 - val_loss: 0.0537 - val_accuracy: 0.9811\n",
            "Epoch 9/20\n",
            "625/625 [==============================] - 52s 84ms/step - loss: 0.0761 - accuracy: 0.9732 - val_loss: 0.0536 - val_accuracy: 0.9811\n",
            "Epoch 10/20\n",
            "625/625 [==============================] - 52s 83ms/step - loss: 0.0642 - accuracy: 0.9786 - val_loss: 0.0680 - val_accuracy: 0.9751\n",
            "Epoch 11/20\n",
            "625/625 [==============================] - 52s 83ms/step - loss: 0.0537 - accuracy: 0.9816 - val_loss: 0.0609 - val_accuracy: 0.9786\n",
            "Epoch 12/20\n",
            "625/625 [==============================] - 52s 84ms/step - loss: 0.0430 - accuracy: 0.9854 - val_loss: 0.0503 - val_accuracy: 0.9827\n",
            "Epoch 13/20\n",
            "625/625 [==============================] - 52s 83ms/step - loss: 0.0366 - accuracy: 0.9869 - val_loss: 0.0629 - val_accuracy: 0.9798\n",
            "Epoch 14/20\n",
            "625/625 [==============================] - 52s 83ms/step - loss: 0.0305 - accuracy: 0.9909 - val_loss: 0.0610 - val_accuracy: 0.9798\n",
            "Epoch 15/20\n",
            "625/625 [==============================] - 53s 84ms/step - loss: 0.0221 - accuracy: 0.9926 - val_loss: 0.0771 - val_accuracy: 0.9779\n",
            "Epoch 16/20\n",
            "625/625 [==============================] - 53s 84ms/step - loss: 0.0173 - accuracy: 0.9946 - val_loss: 0.0957 - val_accuracy: 0.9769\n",
            "Epoch 17/20\n",
            "625/625 [==============================] - 52s 83ms/step - loss: 0.0159 - accuracy: 0.9948 - val_loss: 0.1063 - val_accuracy: 0.9772\n",
            "Epoch 18/20\n",
            "625/625 [==============================] - 53s 85ms/step - loss: 0.0180 - accuracy: 0.9954 - val_loss: 0.0568 - val_accuracy: 0.9824\n",
            "Epoch 19/20\n",
            "625/625 [==============================] - 53s 84ms/step - loss: 0.0156 - accuracy: 0.9954 - val_loss: 0.0628 - val_accuracy: 0.9821\n",
            "Epoch 20/20\n",
            "625/625 [==============================] - 52s 84ms/step - loss: 0.0120 - accuracy: 0.9973 - val_loss: 0.0535 - val_accuracy: 0.9861\n",
            "625/625 [==============================] - 15s 23ms/step - loss: 0.0503 - accuracy: 0.9827\n",
            "Test acc: 0.983\n"
          ]
        }
      ],
      "source": [
        "callbacks = [\n",
        "    keras.callbacks.ModelCheckpoint(\"transformer_encoder.keras\",\n",
        "                                    save_best_only = True)\n",
        "]\n",
        "\n",
        "model.fit(int_train_ds, validation_data=int_val_ds, epochs=20, callbacks=callbacks)\n",
        "model = keras.models.load_model(\n",
        "    \"transformer_encoder.keras\",\n",
        "    custom_objects={\"TransformerEncoder\": TransformerEncoder}\n",
        "    )\n",
        "\n",
        "print(f\"Test acc: {model.evaluate(int_test_ds)[1]:.3f}\")"
      ]
    },
    {
      "cell_type": "markdown",
      "metadata": {
        "id": "rWKw9yofGk9k"
      },
      "source": [
        "## Using positional encoding to re-inject order information"
      ]
    },
    {
      "cell_type": "markdown",
      "metadata": {
        "id": "b1-m6ydEGucB"
      },
      "source": [
        "**Implementing positional embedding as a subclassed layer**"
      ]
    },
    {
      "cell_type": "code",
      "execution_count": null,
      "metadata": {
        "id": "Cqb4QwtbGs5a"
      },
      "outputs": [],
      "source": [
        "class PositionalEmbedding(layers.Layer):\n",
        "  def __init__(self, sequence_length, input_dim, output_dim, **kwargs):\n",
        "    super().__init__(**kwargs)\n",
        "    self.token_embeddings = layers.Embedding(\n",
        "        input_dim=input_dim, output_dim=output_dim)\n",
        "    self.position_embeddings = layers.Embedding(\n",
        "        input_dim=sequence_length, output_dim=output_dim)\n",
        "    self.sequence_length = sequence_length\n",
        "    self.input_dim = input_dim\n",
        "    self.output_dim = output_dim\n",
        "\n",
        "  def call(self, inputs):\n",
        "    length = tf.shape(inputs)[-1]\n",
        "    positions = tf.range(start=0, limit=length, delta=1)\n",
        "    embedded_tokens = self.token_embeddings(inputs)\n",
        "    embedded_positions = self.position_embeddings(positions)\n",
        "    return embedded_tokens + embedded_positions\n",
        "\n",
        "  def compute_mask(self, inputs, mask=None):\n",
        "    return tf.math.not_equal(inputs, 0)\n",
        "\n",
        "  def get_config(self):\n",
        "    config = super().get_config()\n",
        "    config.update({\n",
        "        \"output_dim\": self.output_dim,\n",
        "        \"sequence_length\": self.sequence_length,\n",
        "        \"input_dim\": self.input_dim,\n",
        "    })\n",
        "    return config"
      ]
    },
    {
      "cell_type": "markdown",
      "metadata": {
        "id": "Y9ld5IXzIGdO"
      },
      "source": [
        "## Putting it all together: A text-classification Transformer"
      ]
    },
    {
      "cell_type": "markdown",
      "metadata": {
        "id": "vpok-WddIKXd"
      },
      "source": [
        "**Combining the Transformer encoder with positional embedding**"
      ]
    },
    {
      "cell_type": "code",
      "execution_count": null,
      "metadata": {
        "colab": {
          "background_save": true,
          "base_uri": "https://localhost:8080/"
        },
        "id": "5_869glNINyn",
        "outputId": "ab8ae479-2c6a-46dd-8e20-b641ae21e9fe"
      },
      "outputs": [
        {
          "name": "stdout",
          "output_type": "stream",
          "text": [
            "Model: \"model_1\"\n",
            "_________________________________________________________________\n",
            " Layer (type)                Output Shape              Param #   \n",
            "=================================================================\n",
            " input_8 (InputLayer)        [(None, None)]            0         \n",
            "                                                                 \n",
            " positional_embedding_1 (Pos  (None, None, 256)        5273600   \n",
            " itionalEmbedding)                                               \n",
            "                                                                 \n",
            " transformer_encoder_1 (Tran  (None, None, 256)        543776    \n",
            " sformerEncoder)                                                 \n",
            "                                                                 \n",
            " global_max_pooling1d_1 (Glo  (None, 256)              0         \n",
            " balMaxPooling1D)                                                \n",
            "                                                                 \n",
            " dropout_1 (Dropout)         (None, 256)               0         \n",
            "                                                                 \n",
            " dense_7 (Dense)             (None, 1)                 257       \n",
            "                                                                 \n",
            "=================================================================\n",
            "Total params: 5,817,633\n",
            "Trainable params: 5,817,633\n",
            "Non-trainable params: 0\n",
            "_________________________________________________________________\n",
            "Epoch 1/20\n",
            "625/625 [==============================] - 56s 86ms/step - loss: 0.4745 - accuracy: 0.7817 - val_loss: 0.2113 - val_accuracy: 0.9227\n",
            "Epoch 2/20\n",
            "625/625 [==============================] - 60s 96ms/step - loss: 0.2308 - accuracy: 0.9097 - val_loss: 0.1446 - val_accuracy: 0.9477\n",
            "Epoch 3/20\n",
            "625/625 [==============================] - 54s 87ms/step - loss: 0.1737 - accuracy: 0.9347 - val_loss: 0.0992 - val_accuracy: 0.9653\n",
            "Epoch 4/20\n",
            "625/625 [==============================] - 55s 87ms/step - loss: 0.1384 - accuracy: 0.9503 - val_loss: 0.0930 - val_accuracy: 0.9684\n",
            "Epoch 5/20\n",
            "625/625 [==============================] - 54s 87ms/step - loss: 0.1175 - accuracy: 0.9597 - val_loss: 0.0804 - val_accuracy: 0.9748\n",
            "Epoch 6/20\n",
            "625/625 [==============================] - 55s 88ms/step - loss: 0.1027 - accuracy: 0.9648 - val_loss: 0.0968 - val_accuracy: 0.9656\n",
            "Epoch 7/20\n",
            "625/625 [==============================] - 55s 87ms/step - loss: 0.0901 - accuracy: 0.9690 - val_loss: 0.0617 - val_accuracy: 0.9798\n",
            "Epoch 8/20\n",
            "625/625 [==============================] - 60s 95ms/step - loss: 0.0792 - accuracy: 0.9728 - val_loss: 0.0739 - val_accuracy: 0.9763\n",
            "Epoch 9/20\n",
            "625/625 [==============================] - 55s 87ms/step - loss: 0.0675 - accuracy: 0.9772 - val_loss: 0.0524 - val_accuracy: 0.9841\n",
            "Epoch 10/20\n",
            "625/625 [==============================] - 55s 87ms/step - loss: 0.0645 - accuracy: 0.9787 - val_loss: 0.0427 - val_accuracy: 0.9873\n",
            "Epoch 11/20\n",
            "625/625 [==============================] - 55s 88ms/step - loss: 0.0528 - accuracy: 0.9830 - val_loss: 0.0383 - val_accuracy: 0.9887\n",
            "Epoch 12/20\n",
            "625/625 [==============================] - 54s 86ms/step - loss: 0.0471 - accuracy: 0.9836 - val_loss: 0.0302 - val_accuracy: 0.9904\n",
            "Epoch 13/20\n",
            "625/625 [==============================] - 55s 88ms/step - loss: 0.0426 - accuracy: 0.9861 - val_loss: 0.0246 - val_accuracy: 0.9924\n",
            "Epoch 14/20\n",
            "625/625 [==============================] - 55s 88ms/step - loss: 0.0386 - accuracy: 0.9878 - val_loss: 0.0245 - val_accuracy: 0.9926\n",
            "Epoch 15/20\n",
            "625/625 [==============================] - 55s 87ms/step - loss: 0.0330 - accuracy: 0.9900 - val_loss: 0.0231 - val_accuracy: 0.9933\n",
            "Epoch 16/20\n",
            "625/625 [==============================] - 54s 86ms/step - loss: 0.0278 - accuracy: 0.9910 - val_loss: 0.0185 - val_accuracy: 0.9948\n",
            "Epoch 17/20\n",
            "625/625 [==============================] - 54s 87ms/step - loss: 0.0229 - accuracy: 0.9932 - val_loss: 0.0125 - val_accuracy: 0.9961\n",
            "Epoch 18/20\n",
            "625/625 [==============================] - 55s 88ms/step - loss: 0.0199 - accuracy: 0.9937 - val_loss: 0.0168 - val_accuracy: 0.9950\n",
            "Epoch 19/20\n",
            "625/625 [==============================] - 55s 87ms/step - loss: 0.0185 - accuracy: 0.9942 - val_loss: 0.0308 - val_accuracy: 0.9898\n",
            "Epoch 20/20\n",
            "625/625 [==============================] - 55s 88ms/step - loss: 0.0158 - accuracy: 0.9951 - val_loss: 0.0083 - val_accuracy: 0.9973\n",
            "625/625 [==============================] - 16s 25ms/step - loss: 0.0083 - accuracy: 0.9973\n",
            "Test acc: 0.997\n"
          ]
        }
      ],
      "source": [
        "vocab_size = 20000\n",
        "sequence_length = 600\n",
        "embed_dim = 256\n",
        "num_heads = 2\n",
        "dense_dim = 32\n",
        "\n",
        "inputs = keras.Input(shape=(None,), dtype=\"int64\")\n",
        "x = PositionalEmbedding(sequence_length, vocab_size, embed_dim)(inputs)\n",
        "x = TransformerEncoder(embed_dim, dense_dim, num_heads)(x)\n",
        "x = layers.GlobalMaxPooling1D()(x)\n",
        "x = layers.Dropout(0.5)(x)\n",
        "outputs = layers.Dense(1, activation=\"sigmoid\")(x)\n",
        "model = keras.Model(inputs, outputs)\n",
        "model.compile(optimizer=\"rmsprop\",\n",
        "              loss=\"binary_crossentropy\",\n",
        "              metrics=[\"accuracy\"])\n",
        "model.summary()\n",
        "\n",
        "callbacks = [\n",
        "    keras.callbacks.ModelCheckpoint(\"full_transformer_encoder.keras\",\n",
        "                                    save_best_only=True)\n",
        "]\n",
        "\n",
        "model.fit(int_train_ds, validation_data=int_val_ds, epochs=20, callbacks=callbacks)\n",
        "model = keras.models.load_model(\n",
        "    \"full_transformer_encoder.keras\",\n",
        "    custom_objects = {\"TransformerEncoder\": TransformerEncoder,\n",
        "                      \"PositionalEmbedding\": PositionalEmbedding})\n",
        "print(f\"Test acc: {model.evaluate(int_test_ds)[1]:.3f}\")"
      ]
    }
  ],
  "metadata": {
    "accelerator": "GPU",
    "colab": {
      "provenance": [],
      "include_colab_link": true
    },
    "gpuClass": "standard",
    "kernelspec": {
      "display_name": "Python 3",
      "name": "python3"
    },
    "language_info": {
      "name": "python"
    }
  },
  "nbformat": 4,
  "nbformat_minor": 0
}