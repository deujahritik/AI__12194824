{
  "nbformat": 4,
  "nbformat_minor": 0,
  "metadata": {
    "colab": {
      "provenance": [],
      "include_colab_link": true
    },
    "kernelspec": {
      "name": "python3",
      "display_name": "Python 3"
    },
    "language_info": {
      "name": "python"
    }
  },
  "cells": [
    {
      "cell_type": "markdown",
      "metadata": {
        "id": "view-in-github",
        "colab_type": "text"
      },
      "source": [
        "<a href=\"https://colab.research.google.com/github/deujahritik/AI__12194824/blob/main/tensorflow.ipynb\" target=\"_parent\"><img src=\"https://colab.research.google.com/assets/colab-badge.svg\" alt=\"Open In Colab\"/></a>"
      ]
    },
    {
      "cell_type": "code",
      "execution_count": 1,
      "metadata": {
        "id": "OcS_dQZBigJg"
      },
      "outputs": [],
      "source": [
        "import tensorflow as tf\n",
        "\n",
        "writer = tf.summary.create_file_writer('./graphs')\n",
        "\n",
        "accuracy = [0.1, 0.4, 0.6, 0.8, 0.9, 0.95 ]\n",
        "\n",
        "with writer.as_default():\n",
        "  for step, acc in enumerate(accuracy):\n",
        "    tf.summary.scalar('Accuracy', acc, step)\n",
        "    writer.flush()\n",
        "\n",
        "writer.close()"
      ]
    },
    {
      "cell_type": "code",
      "source": [
        "!tensorboard --logdir='./graphs/'"
      ],
      "metadata": {
        "colab": {
          "base_uri": "https://localhost:8080/"
        },
        "id": "a3US20bJkGMW",
        "outputId": "0e205880-550a-4825-bcf1-e4dea1bdf3ba"
      },
      "execution_count": null,
      "outputs": [
        {
          "output_type": "stream",
          "name": "stdout",
          "text": [
            "2022-10-05 05:44:46.670324: E tensorflow/stream_executor/cuda/cuda_driver.cc:271] failed call to cuInit: CUDA_ERROR_NO_DEVICE: no CUDA-capable device is detected\n",
            "\n",
            "NOTE: Using experimental fast data loading logic. To disable, pass\n",
            "    \"--load_fast=false\" and report issues on GitHub. More details:\n",
            "    https://github.com/tensorflow/tensorboard/issues/4784\n",
            "\n",
            "Serving TensorBoard on localhost; to expose to the network, use a proxy or pass --bind_all\n",
            "TensorBoard 2.8.0 at http://localhost:6006/ (Press CTRL+C to quit)\n"
          ]
        }
      ]
    }
  ]
}